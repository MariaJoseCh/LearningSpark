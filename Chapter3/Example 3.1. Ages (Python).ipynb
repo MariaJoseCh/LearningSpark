{
 "cells": [
  {
   "cell_type": "markdown",
   "id": "4818dded",
   "metadata": {},
   "source": [
    "# Example 3.1"
   ]
  },
  {
   "cell_type": "code",
   "execution_count": 1,
   "id": "3d9f89cd",
   "metadata": {},
   "outputs": [],
   "source": [
    "# We want to aggregate all the ages for each name,\n",
    "# group by name, and then average the ages"
   ]
  },
  {
   "cell_type": "markdown",
   "id": "eaede9be",
   "metadata": {},
   "source": []
  },
  {
   "cell_type": "code",
   "execution_count": 1,
   "id": "1204d04f",
   "metadata": {},
   "outputs": [],
   "source": [
    "import sys\n",
    "from pyspark.sql import SparkSession\n",
    "from pyspark.sql.functions import *\n",
    "import findspark\n",
    "findspark.init()\n",
    "\n",
    "import pyspark"
   ]
  },
  {
   "cell_type": "code",
   "execution_count": 2,
   "id": "6f020140",
   "metadata": {},
   "outputs": [],
   "source": [
    "# Create a DataFrame using SparkSession\n",
    "spark = (SparkSession\n",
    "        .builder\n",
    "        .appName(\"AuthorsAges\")\n",
    "        .getOrCreate())"
   ]
  },
  {
   "cell_type": "code",
   "execution_count": 3,
   "id": "8b274db5",
   "metadata": {},
   "outputs": [],
   "source": [
    "#spark.conf.set(\"spark.sql.execution.arrow.pyspark.enabled\", \"true\")"
   ]
  },
  {
   "cell_type": "code",
   "execution_count": 3,
   "id": "c7ff9de8",
   "metadata": {},
   "outputs": [],
   "source": [
    "#Create a DataFrame\n",
    "data_df = spark.createDataFrame([(\"Brooke\", 20), (\"Denny\", 31), (\"Jules\", 30), (\"TD\", 35), (\"Brooke\", 25)], [\"name\", \"age\"])"
   ]
  },
  {
   "cell_type": "code",
   "execution_count": 4,
   "id": "76f74817",
   "metadata": {},
   "outputs": [],
   "source": [
    "#Group the same names together, aggregate their ages, and compute and average\n",
    "avg_df = data_df.groupBy(\"name\").agg(avg(\"age\"))\n"
   ]
  },
  {
   "cell_type": "code",
   "execution_count": 5,
   "id": "ea5eb82a",
   "metadata": {},
   "outputs": [
    {
     "name": "stdout",
     "output_type": "stream",
     "text": [
      "+------+--------+\n",
      "|  name|avg(age)|\n",
      "+------+--------+\n",
      "|Brooke|    22.5|\n",
      "| Denny|    31.0|\n",
      "| Jules|    30.0|\n",
      "|    TD|    35.0|\n",
      "+------+--------+\n",
      "\n"
     ]
    }
   ],
   "source": [
    "avg_df.show()"
   ]
  }
 ],
 "metadata": {
  "kernelspec": {
   "display_name": "Python 3 (ipykernel)",
   "language": "python",
   "name": "python3"
  },
  "language_info": {
   "codemirror_mode": {
    "name": "ipython",
    "version": 3
   },
   "file_extension": ".py",
   "mimetype": "text/x-python",
   "name": "python",
   "nbconvert_exporter": "python",
   "pygments_lexer": "ipython3",
   "version": "3.10.9"
  }
 },
 "nbformat": 4,
 "nbformat_minor": 5
}
