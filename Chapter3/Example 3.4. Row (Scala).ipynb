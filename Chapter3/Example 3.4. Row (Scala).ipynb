{
 "cells": [
  {
   "cell_type": "code",
   "execution_count": 2,
   "id": "4ee7c45d",
   "metadata": {},
   "outputs": [
    {
     "data": {
      "text/plain": [
       "import org.apache.spark.sql.Row\r\n",
       "row: org.apache.spark.sql.Row = [350,true,Learning Spark 2E,null]\r\n"
      ]
     },
     "execution_count": 2,
     "metadata": {},
     "output_type": "execute_result"
    }
   ],
   "source": [
    "//DATASET\n",
    "\n",
    "//Row is a generic object type in Spark, holding a collection of mixed types that can be accessed using an index. \n",
    "\n",
    "import org.apache.spark.sql.Row\n",
    "val row = Row(350, true, \"Learning Spark 2E\", null)"
   ]
  },
  {
   "cell_type": "code",
   "execution_count": 3,
   "id": "f050aadd",
   "metadata": {},
   "outputs": [
    {
     "data": {
      "text/plain": [
       "res0: Int = 350\r\n"
      ]
     },
     "execution_count": 3,
     "metadata": {},
     "output_type": "execute_result"
    }
   ],
   "source": [
    "//Using an index into the Row object, you can access individual fields with its public getter methods\n",
    "row.getInt(0)"
   ]
  },
  {
   "cell_type": "code",
   "execution_count": 4,
   "id": "e33f9d92",
   "metadata": {},
   "outputs": [
    {
     "data": {
      "text/plain": [
       "res1: Boolean = true\r\n"
      ]
     },
     "execution_count": 4,
     "metadata": {},
     "output_type": "execute_result"
    }
   ],
   "source": [
    "row.getBoolean(1)"
   ]
  },
  {
   "cell_type": "code",
   "execution_count": 5,
   "id": "58ff8f71",
   "metadata": {},
   "outputs": [
    {
     "data": {
      "text/plain": [
       "res2: String = Learning Spark 2E\r\n"
      ]
     },
     "execution_count": 5,
     "metadata": {},
     "output_type": "execute_result"
    }
   ],
   "source": [
    "row.getString(2)"
   ]
  },
  {
   "cell_type": "code",
   "execution_count": 6,
   "id": "ffd858d0",
   "metadata": {},
   "outputs": [
    {
     "data": {
      "text/plain": [
       "defined class DeviceIoTData\r\n"
      ]
     },
     "execution_count": 6,
     "metadata": {},
     "output_type": "execute_result"
    }
   ],
   "source": [
    "// CREATING DATASETS\n",
    "\n",
    "//We can define a Scala case class\n",
    "case class DeviceIoTData (battery_level: Long, c02_level: Long,\n",
    "cca2: String, cca3: String, cn: String, device_id: Long,\n",
    "device_name: String, humidity: Long, ip: String, latitude: Double,\n",
    "lcd: String, longitude: Double, scale:String, temp: Long,\n",
    "timestamp: Long)"
   ]
  },
  {
   "cell_type": "markdown",
   "id": "a7cdf14a",
   "metadata": {},
   "source": [
    "## Duda: falta y dudas pag 71 final 72 los datos"
   ]
  },
  {
   "cell_type": "code",
   "execution_count": 7,
   "id": "7fcf651c",
   "metadata": {},
   "outputs": [
    {
     "ename": "org.apache.spark.sql.AnalysisException",
     "evalue": " [PATH_NOT_FOUND] Path does not exist: file:/C:/Users/mariajose.chinchilla/OneDrive - Bosonit/Escritorio/Bosonit/Spark/LearningSpark/Chapter3/DUDAAAAAAAAAAAAAAAAAAAAAAAAAAAAAAAAAAAAAAAA.\r",
     "output_type": "error",
     "traceback": [
      "org.apache.spark.sql.AnalysisException: [PATH_NOT_FOUND] Path does not exist: file:/C:/Users/mariajose.chinchilla/OneDrive - Bosonit/Escritorio/Bosonit/Spark/LearningSpark/Chapter3/DUDAAAAAAAAAAAAAAAAAAAAAAAAAAAAAAAAAAAAAAAA.\r",
      "  at org.apache.spark.sql.errors.QueryCompilationErrors$.dataPathNotExistError(QueryCompilationErrors.scala:1419)\r",
      "  at org.apache.spark.sql.execution.datasources.DataSource$.$anonfun$checkAndGlobPathIfNecessary$4(DataSource.scala:757)\r",
      "  at org.apache.spark.sql.execution.datasources.DataSource$.$anonfun$checkAndGlobPathIfNecessary$4$adapted(DataSource.scala:754)\r",
      "  at org.apache.spark.util.ThreadUtils$.$anonfun$parmap$2(ThreadUtils.scala:393)\r",
      "  at scala.concurrent.Future$.$anonfun$apply$1(Future.scala:659)\r",
      "  at scala.util.Success.$anonfun$map$1(Try.scala:255)\r",
      "  at scala.util.Success.map(Try.scala:213)\r",
      "  at scala.concurrent.Future.$anonfun$map$1(Future.scala:292)\r",
      "  at scala.concurrent.impl.Promise.liftedTree1$1(Promise.scala:33)\r",
      "  at scala.concurrent.impl.Promise.$anonfun$transform$1(Promise.scala:33)\r",
      "  at scala.concurrent.impl.CallbackRunnable.run(Promise.scala:64)\r",
      "  at java.base/java.util.concurrent.ForkJoinTask$RunnableExecuteAction.exec(ForkJoinTask.java:1423)\r",
      "  at java.base/java.util.concurrent.ForkJoinTask.doExec(ForkJoinTask.java:387)\r",
      "  at java.base/java.util.concurrent.ForkJoinPool$WorkQueue.topLevelExec(ForkJoinPool.java:1312)\r",
      "  at java.base/java.util.concurrent.ForkJoinPool.scan(ForkJoinPool.java:1843)\r",
      "  at java.base/java.util.concurrent.ForkJoinPool.runWorker(ForkJoinPool.java:1808)\r",
      "  at java.base/java.util.concurrent.ForkJoinWorkerThread.run(ForkJoinWorkerThread.java:188)\r",
      ""
     ]
    }
   ],
   "source": [
    "//Once defined, we can use it to read our file and convert the returned Dataset[Row] into Dataset[DeviceIoTData] (output truncated to fit on the page)\n",
    "\n",
    "val ds = spark.read\n",
    ".json(\"DUDAAAAAAAAAAAAAAAAAAAAAAAAAAAAAAAAAAAAAAAA\")\n",
    ".as[DeviceIoTData]\n",
    "\n",
    "ds.show(5, false)"
   ]
  },
  {
   "cell_type": "code",
   "execution_count": null,
   "id": "354e07fd",
   "metadata": {},
   "outputs": [],
   "source": []
  }
 ],
 "metadata": {
  "kernelspec": {
   "display_name": "spylon-kernel",
   "language": "scala",
   "name": "spylon-kernel"
  },
  "language_info": {
   "codemirror_mode": "text/x-scala",
   "file_extension": ".scala",
   "help_links": [
    {
     "text": "MetaKernel Magics",
     "url": "https://metakernel.readthedocs.io/en/latest/source/README.html"
    }
   ],
   "mimetype": "text/x-scala",
   "name": "scala",
   "pygments_lexer": "scala",
   "version": "0.4.1"
  }
 },
 "nbformat": 4,
 "nbformat_minor": 5
}
