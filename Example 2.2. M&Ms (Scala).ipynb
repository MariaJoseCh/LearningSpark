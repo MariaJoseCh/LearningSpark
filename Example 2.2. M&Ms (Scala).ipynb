{
 "cells": [
  {
   "cell_type": "code",
   "execution_count": 2,
   "id": "8536da39",
   "metadata": {},
   "outputs": [
    {
     "data": {
      "text/plain": [
       "import org.apache.spark.sql.SparkSession\r\n",
       "import org.apache.spark.sql.functions._\r\n"
      ]
     },
     "execution_count": 2,
     "metadata": {},
     "output_type": "execute_result"
    }
   ],
   "source": [
    "import org.apache.spark.sql.SparkSession\n",
    "import org.apache.spark.sql.functions._"
   ]
  },
  {
   "cell_type": "code",
   "execution_count": 3,
   "id": "d190a891",
   "metadata": {},
   "outputs": [
    {
     "data": {
      "text/plain": [
       "mnmFile: String = C:/Users/mariajose.chinchilla/OneDrive - Bosonit/Escritorio/Bosonit/Spark/datarepositorio/chapter2/py/src/data/mnm_dataset.csv\r\n"
      ]
     },
     "execution_count": 3,
     "metadata": {},
     "output_type": "execute_result"
    }
   ],
   "source": [
    "// Get the M&M data set filename\n",
    "val mnmFile = \"C:/Users/mariajose.chinchilla/OneDrive - Bosonit/Escritorio/Bosonit/Spark/datarepositorio/chapter2/py/src/data/mnm_dataset.csv\""
   ]
  },
  {
   "cell_type": "code",
   "execution_count": 4,
   "id": "cadc0c20",
   "metadata": {},
   "outputs": [
    {
     "name": "stdout",
     "output_type": "stream",
     "text": [
      "+-----+------+-----+\n",
      "|State| Color|Count|\n",
      "+-----+------+-----+\n",
      "|   TX|   Red|   20|\n",
      "|   NV|  Blue|   66|\n",
      "|   CO|  Blue|   79|\n",
      "|   OR|  Blue|   71|\n",
      "|   WA|Yellow|   93|\n",
      "+-----+------+-----+\n",
      "only showing top 5 rows\n",
      "\r\n"
     ]
    },
    {
     "data": {
      "text/plain": [
       "mnmDF: org.apache.spark.sql.DataFrame = [State: string, Color: string ... 1 more field]\r\n"
      ]
     },
     "execution_count": 4,
     "metadata": {},
     "output_type": "execute_result"
    }
   ],
   "source": [
    "// Read the file into a Spark DataFrame\n",
    "var mnmDF = spark.read.format(\"csv\")\n",
    "  .option(\"header\", \"true\")\n",
    "  .option(\"inferSchema\", \"true\")\n",
    "  .load(mnmFile)\n",
    "mnmDF.show(5)"
   ]
  },
  {
   "cell_type": "code",
   "execution_count": 5,
   "id": "92c428a1",
   "metadata": {},
   "outputs": [
    {
     "data": {
      "text/plain": [
       "countMnMDF: org.apache.spark.sql.Dataset[org.apache.spark.sql.Row] = [State: string, Color: string ... 1 more field]\r\n"
      ]
     },
     "execution_count": 5,
     "metadata": {},
     "output_type": "execute_result"
    }
   ],
   "source": [
    "// Aggregate counts of all colors and groupBy() State and Color\n",
    "// orderBy() in descending order\n",
    "var countMnMDF = mnmDF\n",
    "  .select(\"State\", \"Color\", \"Count\")\n",
    "  .groupBy(\"State\", \"Color\")\n",
    "  .agg(count(\"Count\").alias(\"Total\"))\n",
    "  .orderBy(desc(\"Total\"))"
   ]
  },
  {
   "cell_type": "code",
   "execution_count": 6,
   "id": "05ea2d37",
   "metadata": {},
   "outputs": [
    {
     "name": "stdout",
     "output_type": "stream",
     "text": [
      "+-----+------+-----+\n",
      "|State| Color|Total|\n",
      "+-----+------+-----+\n",
      "|   CA|Yellow| 1807|\n",
      "|   WA| Green| 1779|\n",
      "|   OR|Orange| 1743|\n",
      "|   TX| Green| 1737|\n",
      "|   TX|   Red| 1725|\n",
      "|   CA| Green| 1723|\n",
      "|   CO|Yellow| 1721|\n",
      "|   CA| Brown| 1718|\n",
      "|   CO| Green| 1713|\n",
      "|   NV|Orange| 1712|\n",
      "|   TX|Yellow| 1703|\n",
      "|   NV| Green| 1698|\n",
      "|   AZ| Brown| 1698|\n",
      "|   WY| Green| 1695|\n",
      "|   CO|  Blue| 1695|\n",
      "|   NM|   Red| 1690|\n",
      "|   AZ|Orange| 1689|\n",
      "|   NM|Yellow| 1688|\n",
      "|   NM| Brown| 1687|\n",
      "|   UT|Orange| 1684|\n",
      "|   NM| Green| 1682|\n",
      "|   UT|   Red| 1680|\n",
      "|   AZ| Green| 1676|\n",
      "|   NV|Yellow| 1675|\n",
      "|   NV|  Blue| 1673|\n",
      "|   WA|   Red| 1671|\n",
      "|   WY|   Red| 1670|\n",
      "|   WA| Brown| 1669|\n",
      "|   NM|Orange| 1665|\n",
      "|   WY|  Blue| 1664|\n",
      "|   WA|Yellow| 1663|\n",
      "|   WA|Orange| 1658|\n",
      "|   NV| Brown| 1657|\n",
      "|   CA|Orange| 1657|\n",
      "|   CA|   Red| 1656|\n",
      "|   CO| Brown| 1656|\n",
      "|   UT|  Blue| 1655|\n",
      "|   AZ|Yellow| 1654|\n",
      "|   TX|Orange| 1652|\n",
      "|   AZ|   Red| 1648|\n",
      "|   OR|  Blue| 1646|\n",
      "|   UT|Yellow| 1645|\n",
      "|   OR|   Red| 1645|\n",
      "|   CO|Orange| 1642|\n",
      "|   TX| Brown| 1641|\n",
      "|   NM|  Blue| 1638|\n",
      "|   AZ|  Blue| 1636|\n",
      "|   OR| Green| 1634|\n",
      "|   UT| Brown| 1631|\n",
      "|   WY|Yellow| 1626|\n",
      "|   WA|  Blue| 1625|\n",
      "|   CO|   Red| 1624|\n",
      "|   OR| Brown| 1621|\n",
      "|   TX|  Blue| 1614|\n",
      "|   OR|Yellow| 1614|\n",
      "|   NV|   Red| 1610|\n",
      "|   CA|  Blue| 1603|\n",
      "|   WY|Orange| 1595|\n",
      "|   UT| Green| 1591|\n",
      "|   WY| Brown| 1532|\n",
      "+-----+------+-----+\n",
      "\n",
      "Total Rows = ${countMnMDF.count()}\n",
      "\n"
     ]
    }
   ],
   "source": [
    "//Show the resulting aggregations for all the states and colors\n",
    "countMnMDF.show(60)\n",
    "println(\"Total Rows = ${countMnMDF.count()}\")\n",
    "println()"
   ]
  },
  {
   "cell_type": "code",
   "execution_count": 8,
   "id": "4254fcfa",
   "metadata": {},
   "outputs": [
    {
     "data": {
      "text/plain": [
       "caCountMnMDF: org.apache.spark.sql.Dataset[org.apache.spark.sql.Row] = [State: string, Color: string ... 1 more field]\r\n"
      ]
     },
     "execution_count": 8,
     "metadata": {},
     "output_type": "execute_result"
    }
   ],
   "source": [
    "//Find the aggregate counts for California by filtering\n",
    "val caCountMnMDF = mnmDF\n",
    "  .select(\"State\", \"Color\", \"Count\")\n",
    "  .where(col(\"State\") === \"CA\")\n",
    "  .groupBy(\"State\", \"Color\")\n",
    "  .agg(count(\"Count\").alias(\"Total\"))\n",
    "  .orderBy(desc(\"Total\"))"
   ]
  },
  {
   "cell_type": "code",
   "execution_count": 9,
   "id": "75b5f8a5",
   "metadata": {},
   "outputs": [
    {
     "name": "stdout",
     "output_type": "stream",
     "text": [
      "+-----+------+-----+\n",
      "|State| Color|Total|\n",
      "+-----+------+-----+\n",
      "|   CA|Yellow| 1807|\n",
      "|   CA| Green| 1723|\n",
      "|   CA| Brown| 1718|\n",
      "|   CA|Orange| 1657|\n",
      "|   CA|   Red| 1656|\n",
      "|   CA|  Blue| 1603|\n",
      "+-----+------+-----+\n",
      "\r\n"
     ]
    }
   ],
   "source": [
    "//Show the resulting aggregations for California\n",
    "caCountMnMDF.show(10)"
   ]
  },
  {
   "cell_type": "markdown",
   "id": "fc9614e8",
   "metadata": {},
   "source": [
    "## Ejemplo con SQL"
   ]
  },
  {
   "cell_type": "code",
   "execution_count": 11,
   "id": "409acc49",
   "metadata": {},
   "outputs": [
    {
     "data": {
      "text/plain": [
       "import org.apache.spark.sql.SparkSession\r\n",
       "spark: org.apache.spark.sql.SparkSession = org.apache.spark.sql.SparkSession@3494ccb2\r\n",
       "csvFile: String = C:/Users/mariajose.chinchilla/OneDrive - Bosonit/Escritorio/Bosonit/Spark/datarepositorio/chapter2/py/src/data/mnm_dataset.csv\r\n",
       "df: org.apache.spark.sql.DataFrame = [State: string, Color: string ... 1 more field]\r\n"
      ]
     },
     "execution_count": 11,
     "metadata": {},
     "output_type": "execute_result"
    }
   ],
   "source": [
    "import org.apache.spark.sql.SparkSession            \n",
    "val spark = SparkSession\n",
    "  .builder\n",
    "  .appName(\"SparkSQLExampleApp\")\n",
    "  .getOrCreate()\n",
    "\n",
    "val csvFile=\"C:/Users/mariajose.chinchilla/OneDrive - Bosonit/Escritorio/Bosonit/Spark/datarepositorio/chapter2/py/src/data/mnm_dataset.csv\"\n",
    "\n",
    "val df = spark.read.format(\"csv\")\n",
    "  .option(\"inferSchema\", \"true\")\n",
    "  .option(\"header\", \"true\")\n",
    "  .load(csvFile)\n",
    "\n",
    "df.createOrReplaceTempView(\"mnm_tbl\")"
   ]
  },
  {
   "cell_type": "code",
   "execution_count": 12,
   "id": "da095aa5",
   "metadata": {},
   "outputs": [
    {
     "name": "stdout",
     "output_type": "stream",
     "text": [
      "+-----+------+-----+\n",
      "|State| Color|Count|\n",
      "+-----+------+-----+\n",
      "|   TX|   Red|   20|\n",
      "|   NV|  Blue|   66|\n",
      "|   CO|  Blue|   79|\n",
      "|   OR|  Blue|   71|\n",
      "|   WA|Yellow|   93|\n",
      "|   WY|  Blue|   16|\n",
      "|   CA|Yellow|   53|\n",
      "|   WA| Green|   60|\n",
      "|   OR| Green|   71|\n",
      "|   TX| Green|   68|\n",
      "+-----+------+-----+\n",
      "only showing top 10 rows\n",
      "\r\n"
     ]
    }
   ],
   "source": [
    "spark.sql(\"SELECT * FROM mnm_tbl\").show(10)"
   ]
  },
  {
   "cell_type": "code",
   "execution_count": 13,
   "id": "8e479fbf",
   "metadata": {},
   "outputs": [
    {
     "name": "stdout",
     "output_type": "stream",
     "text": [
      "+-----+------+-----+\n",
      "|State| Color|Total|\n",
      "+-----+------+-----+\n",
      "|   CA|Yellow| 1807|\n",
      "|   WA| Green| 1779|\n",
      "|   OR|Orange| 1743|\n",
      "|   TX| Green| 1737|\n",
      "|   TX|   Red| 1725|\n",
      "|   CA| Green| 1723|\n",
      "|   CO|Yellow| 1721|\n",
      "|   CA| Brown| 1718|\n",
      "|   CO| Green| 1713|\n",
      "|   NV|Orange| 1712|\n",
      "+-----+------+-----+\n",
      "only showing top 10 rows\n",
      "\r\n"
     ]
    }
   ],
   "source": [
    "spark.sql(\"SELECT State, Color, COUNT(Count) AS Total FROM mnm_tbl GROUP BY State, Color ORDER BY Total DESC\").show(10)"
   ]
  }
 ],
 "metadata": {
  "kernelspec": {
   "display_name": "spylon-kernel",
   "language": "scala",
   "name": "spylon-kernel"
  },
  "language_info": {
   "codemirror_mode": "text/x-scala",
   "file_extension": ".scala",
   "help_links": [
    {
     "text": "MetaKernel Magics",
     "url": "https://metakernel.readthedocs.io/en/latest/source/README.html"
    }
   ],
   "mimetype": "text/x-scala",
   "name": "scala",
   "pygments_lexer": "scala",
   "version": "0.4.1"
  }
 },
 "nbformat": 4,
 "nbformat_minor": 5
}
